{
 "cells": [
  {
   "cell_type": "markdown",
   "id": "8ccbdf66",
   "metadata": {
    "slideshow": {
     "slide_type": "-"
    }
   },
   "source": [
    "# Insulin gene assembly challenge\n",
    "\n",
    "Student name: \n",
    "\n",
    "## Introduction"
   ]
  },
  {
   "cell_type": "markdown",
   "id": "c2d0eec2",
   "metadata": {},
   "source": [
    "One of the classic stories in early molecular genetics was the race to clone and sequence the human insulin gene. Multible teams with different strategies raced towards the answer, as the winner was sure to secure fame and fortune with this important piece of genetic information in hand. It really is a great story and you can read more about it [here](https://www.gene.com/stories/cloning-insulin) if you are interested.\n",
    "\n",
    "Today we will be undertaking out own race to \"clone\" insulin but with a modern and bioinformatics twist.\n",
    "\n",
    "One of the common challenges faced in computional biology is the assembly of genomes. We don't yet have the technology to sequence entire genomes in one shot (although some people are [trying to get there](https://en.wikipedia.org/wiki/Nanopore_sequencing)) so we have to settle for breaking the genome into very small fragments, sequencing those fragments, and then trying to put everything back together using algorithims. \n",
    "\n",
    "Below is an idealized diagram of how this process works, it is often called \"shotgun\" sequencing because the genome is cut into very small fragments."
   ]
  },
  {
   "cell_type": "markdown",
   "id": "94a306b5",
   "metadata": {},
   "source": [
    "![](resources/Shotgun_sequencing_lg.jpg)"
   ]
  },
  {
   "cell_type": "markdown",
   "id": "c47c1601",
   "metadata": {},
   "source": [
    "At the most basic level these small fragments are put back togther by identifying overlapping sequences present in two or more fragments and then merging these into larger fragments. This process is repeated again and again to form larger and large pieces of the genome called contigs."
   ]
  },
  {
   "cell_type": "markdown",
   "id": "642669f4",
   "metadata": {},
   "source": [
    "## The challenge\n",
    "\n",
    "Today, it is up to you to assemble the insulin gene using Python. Remember, fame and fortune are on the line. The winning group takes all. \n",
    "\n",
    "Your deliverable is a string with your best guess at the insulin gene sequence based on the reads you are provided. The group who's assembled sequence is closest to the actual (reference) will be crowned the winner and be awarded the patent rights for insulin production."
   ]
  },
  {
   "cell_type": "markdown",
   "id": "af6adfc6",
   "metadata": {},
   "source": [
    "## Rules\n",
    "\n",
    "1. You may only use the reads provided to you as your input data\n",
    "2. You may *not* install any additional packages or libraries\n",
    "3. You may use Google and online resources to help you but the final code must be your own\n",
    "4. This notebook must produce your final answer\n",
    "\n",
    "### About the dataset\n",
    "\n",
    "- All reads come directly from the insulin gene and do not contain errors\n",
    "- The insulin gene is fragmented randomly so reads may be of different length\n",
    "- Reads may not be unique (duplicates of the same sequence may exist)"
   ]
  },
  {
   "cell_type": "markdown",
   "id": "104cf54a",
   "metadata": {},
   "source": [
    "## Getting started"
   ]
  },
  {
   "cell_type": "markdown",
   "id": "e483b0ae",
   "metadata": {},
   "source": [
    "Below I have provided some code to make getting going a bit faster. All it is doing is reading the simulated reads into a list of strings. If you would like to check out the code yourself it is located in `resources/resources.py`."
   ]
  },
  {
   "cell_type": "code",
   "execution_count": 7,
   "id": "82a021e2",
   "metadata": {},
   "outputs": [
    {
     "name": "stdout",
     "output_type": "stream",
     "text": [
      "Read 0: AAAAAAAAAAAAAAAAAAAAAAAAAAAAAAAAAAAAAAAAAAAAAAAAA\n",
      "Read 1: AAAAAAAAAAAAAAAAAAAAAAAAAAAAAAAAAAAAAAAAAAAAAAAAA\n"
     ]
    }
   ],
   "source": [
    "from resources import resources\n",
    "\n",
    "reads = resources.READS\n",
    "\n",
    "for i in range(2):\n",
    "    print(f'Read {i}: {reads[i]}')"
   ]
  },
  {
   "cell_type": "markdown",
   "id": "91fe7f0a",
   "metadata": {},
   "source": [
    "Additionally here is some pseduo code to help you get started thinking about your approach. Once you have an idea in mind I would recommend testing it out on some example data first and then move on to implementing it on the full data set.\n",
    "\n",
    "### Pseudocode example"
   ]
  },
  {
   "cell_type": "markdown",
   "id": "5aacccd4",
   "metadata": {},
   "source": [
    "```\n",
    "assembled_gene = read[i]\n",
    "\n",
    "for i in len(reads[1:]):\n",
    "    if assembled_gene overlaps with reads[i]:\n",
    "        assembled_gene = assembled_gene + read[i]\n",
    "```"
   ]
  },
  {
   "cell_type": "markdown",
   "id": "d877aeaa",
   "metadata": {},
   "source": [
    "Some questions to ask yourself\n",
    "- How will I locate overlaps between reads?\n",
    "- How will I combine reads that have overlaps?\n",
    "- How will I deal with non-overlapping reads?\n",
    "- Which part of a read needs to overlap in order to combine?"
   ]
  },
  {
   "cell_type": "markdown",
   "id": "bcd328e8",
   "metadata": {},
   "source": [
    "### Test example"
   ]
  },
  {
   "cell_type": "markdown",
   "id": "00b85039",
   "metadata": {},
   "source": [
    "Here's how I might start testing my code. First take a phrase or your name and break it down into small overlapping parts"
   ]
  },
  {
   "cell_type": "code",
   "execution_count": null,
   "id": "d026e3a1",
   "metadata": {},
   "outputs": [
    {
     "data": {
      "text/plain": [
       "['Etha', 'than', 'hanH', 'anHo', 'nHol', 'Holl', 'olle', 'llem', 'lema']"
      ]
     },
     "execution_count": 19,
     "metadata": {},
     "output_type": "execute_result"
    }
   ],
   "source": [
    "name = 'EthanHolleman'\n",
    "\n",
    "ethan_reads = []\n",
    "\n",
    "for i in range(len(name)- 4):\n",
    "    ethan_reads.append(name[i:i+4])\n",
    "ethan_reads"
   ]
  },
  {
   "cell_type": "markdown",
   "id": "ea3a5c30",
   "metadata": {},
   "source": [
    "Now shuffle these up and try and put them back together"
   ]
  },
  {
   "cell_type": "code",
   "execution_count": null,
   "id": "f400fade",
   "metadata": {},
   "outputs": [
    {
     "data": {
      "text/plain": [
       "['nHol', 'hanH', 'anHo', 'llem', 'olle', 'Etha', 'Holl', 'lema', 'than']"
      ]
     },
     "execution_count": 24,
     "metadata": {},
     "output_type": "execute_result"
    }
   ],
   "source": [
    "import random\n",
    "\n",
    "random.shuffle(ethan_reads)\n",
    "ethan_reads"
   ]
  },
  {
   "cell_type": "markdown",
   "id": "209b2b46",
   "metadata": {},
   "source": [
    "## Workspace\n",
    "\n",
    "Use the space beyond this cell in the notebook to prototype and work on your solution. Remember, run your code often to make sure any changes you make don't break things!\n",
    "\n",
    "### Saving your work\n",
    "\n",
    "If you are using this notebook within a Binder your work will not be saved after you close the Binder. To avoid losing any of your work make sure you save by exporting the notebook to your local machine. Please ask if you have any questions about this."
   ]
  }
 ],
 "metadata": {
  "kernelspec": {
   "display_name": "Python 3.10.4 ('bs')",
   "language": "python",
   "name": "python3"
  },
  "language_info": {
   "codemirror_mode": {
    "name": "ipython",
    "version": 3
   },
   "file_extension": ".py",
   "mimetype": "text/x-python",
   "name": "python",
   "nbconvert_exporter": "python",
   "pygments_lexer": "ipython3",
   "version": "3.10.4"
  },
  "vscode": {
   "interpreter": {
    "hash": "43830fd68bdb4db3a1db200af6ec709a3b62292d09f0c5cc4c4d901e5c8ebc55"
   }
  }
 },
 "nbformat": 4,
 "nbformat_minor": 5
}
