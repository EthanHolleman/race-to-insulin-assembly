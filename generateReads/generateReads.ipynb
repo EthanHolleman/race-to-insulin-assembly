{
 "cells": [
  {
   "cell_type": "code",
   "execution_count": 6,
   "id": "25b72599",
   "metadata": {},
   "outputs": [],
   "source": [
    "from Bio import SeqIO\n",
    "import numpy as np"
   ]
  },
  {
   "cell_type": "markdown",
   "id": "5e538455",
   "metadata": {},
   "source": [
    "Read the insulin gene sequence."
   ]
  },
  {
   "cell_type": "code",
   "execution_count": 3,
   "id": "2a3392b4",
   "metadata": {},
   "outputs": [],
   "source": [
    "insulin = SeqIO.read('insulinSeq.fasta', 'fasta')"
   ]
  },
  {
   "cell_type": "code",
   "execution_count": 4,
   "id": "42464ae0",
   "metadata": {
    "scrolled": true
   },
   "outputs": [
    {
     "data": {
      "text/plain": [
       "SeqRecord(seq=Seq('AGCCCTCCAGGACAGGCTGCATCAGAAGAGGCCATCAAGCAGGTCTGTTCCAAG...AGC'), id='NG_007114.1:4986-6416', name='NG_007114.1:4986-6416', description='NG_007114.1:4986-6416 Homo sapiens insulin (INS), RefSeqGene on chromosome 11', dbxrefs=[])"
      ]
     },
     "execution_count": 4,
     "metadata": {},
     "output_type": "execute_result"
    }
   ],
   "source": [
    "insulin"
   ]
  },
  {
   "cell_type": "code",
   "execution_count": 5,
   "id": "afb2ed58",
   "metadata": {},
   "outputs": [
    {
     "data": {
      "text/plain": [
       "1431"
      ]
     },
     "execution_count": 5,
     "metadata": {},
     "output_type": "execute_result"
    }
   ],
   "source": [
    "len(insulin)"
   ]
  },
  {
   "cell_type": "markdown",
   "id": "fbf9cc48",
   "metadata": {},
   "source": [
    "Simulate sonication."
   ]
  },
  {
   "cell_type": "code",
   "execution_count": 25,
   "id": "27bafb42",
   "metadata": {},
   "outputs": [
    {
     "data": {
      "text/plain": [
       "181.21184209357693"
      ]
     },
     "execution_count": 25,
     "metadata": {},
     "output_type": "execute_result"
    }
   ],
   "source": [
    "np.random.normal(200, 30)"
   ]
  },
  {
   "cell_type": "code",
   "execution_count": 27,
   "id": "867bb8cd",
   "metadata": {},
   "outputs": [],
   "source": [
    "def sonicate(seq, mean_length=200, number_fragments=1000):\n",
    "    \n",
    "    fragments = []\n",
    "    \n",
    "    for i in range(number_fragments):\n",
    "        frag_start = np.random.randint(0, len(seq))\n",
    "        frag_length = int(np.random.normal(200, 30))\n",
    "        if frag_start+frag_length > len(seq)-1:\n",
    "            frag_end = len(seq)-1\n",
    "        else:\n",
    "            frag_end = frag_start + frag_length\n",
    "        \n",
    "        fragments.append(seq[frag_start:frag_end])\n",
    "    \n",
    "    return fragments"
   ]
  },
  {
   "cell_type": "code",
   "execution_count": 30,
   "id": "f65c9b35",
   "metadata": {},
   "outputs": [],
   "source": [
    "sonicated_frags = sonicate(insulin)"
   ]
  },
  {
   "cell_type": "markdown",
   "id": "3f448a99",
   "metadata": {},
   "source": [
    "## Example assemblier"
   ]
  },
  {
   "cell_type": "markdown",
   "id": "c64a49bc",
   "metadata": {},
   "source": [
    "Idea is to identify fragments that have overlaps and then make these into larger and larger fragments until\n",
    "a complete sequence is defined."
   ]
  },
  {
   "cell_type": "code",
   "execution_count": 33,
   "id": "607208cf",
   "metadata": {},
   "outputs": [],
   "source": [
    "def hamming_distance(read_a, read_b):\n",
    "    return sum(nuc_a != nuc_b for nuc_a, nuc_b in zip(read_a, read_b))\n",
    "\n",
    "def paste(read_a, read_b, end_compare_length=10):\n",
    "    read_a_start, read_a_end = read_a[:compare_length], read_a[-compare_length:]\n",
    "    read_b_start, read_b_end = read_b[:compare_length], read_b[-compare_length:]\n",
    "    \n",
    "    dist_a_start_b_end = hamming_dist(read_a_start, read_b_end)\n",
    "    dist_a_end_b_start = hamming_dist(read_a_end, read_b_start)\n",
    "    \n",
    "    if dist_a_start_b_end == 0:\n",
    "        \n",
    "        \n",
    "        \n",
    "    elif dist_a_end_b_start == 0:\n",
    "        #\n",
    "    else:\n",
    "        return read_a"
   ]
  },
  {
   "cell_type": "code",
   "execution_count": 35,
   "id": "551fc8e6",
   "metadata": {},
   "outputs": [
    {
     "data": {
      "text/plain": [
       "'7890'"
      ]
     },
     "execution_count": 35,
     "metadata": {},
     "output_type": "execute_result"
    }
   ],
   "source": []
  }
 ],
 "metadata": {
  "kernelspec": {
   "display_name": "Python 3 (ipykernel)",
   "language": "python",
   "name": "python3"
  },
  "language_info": {
   "codemirror_mode": {
    "name": "ipython",
    "version": 3
   },
   "file_extension": ".py",
   "mimetype": "text/x-python",
   "name": "python",
   "nbconvert_exporter": "python",
   "pygments_lexer": "ipython3",
   "version": "3.10.4"
  }
 },
 "nbformat": 4,
 "nbformat_minor": 5
}
